{
 "cells": [
  {
   "cell_type": "code",
   "execution_count": 2,
   "metadata": {},
   "outputs": [],
   "source": [
    "from pyspark.sql import SparkSession\n",
    "\n",
    "# Before start you should be to install JAVA\n",
    "spark = SparkSession.builder.appName(\"Weather-Atlas\").getOrCreate() # Entry-point to PySpark App\n",
    "\n",
    "# If click A- [above] or B - [below] in VSC hepls to add code"
   ]
  },
  {
   "cell_type": "code",
   "execution_count": 5,
   "metadata": {},
   "outputs": [
    {
     "name": "stdout",
     "output_type": "stream",
     "text": [
      "root\n",
      " |-- Formatted Date: string (nullable = true)\n",
      " |-- Summary: string (nullable = true)\n",
      " |-- Precip Type: string (nullable = true)\n",
      " |-- Temperature (C): string (nullable = true)\n",
      " |-- Apparent Temperature (C): string (nullable = true)\n",
      " |-- Humidity: string (nullable = true)\n",
      " |-- Wind Speed (km/h): string (nullable = true)\n",
      " |-- Wind Bearing (degrees): string (nullable = true)\n",
      " |-- Visibility (km): string (nullable = true)\n",
      " |-- Loud Cover: string (nullable = true)\n",
      " |-- Pressure (millibars): string (nullable = true)\n",
      " |-- Daily Summary: string (nullable = true)\n",
      "\n"
     ]
    }
   ],
   "source": [
    "# Read of DataFrame with auto identification of schema\n",
    "df = spark.read.format(\"csv\").option('header', \"true\").load(\"../dataset/weatherHistory.csv\")\n",
    "\n",
    "df.printSchema() # Help to explore schema of DataFrame"
   ]
  },
  {
   "cell_type": "code",
   "execution_count": 6,
   "metadata": {},
   "outputs": [
    {
     "name": "stdout",
     "output_type": "stream",
     "text": [
      "+--------------------+-------------+-----------+-----------------+------------------------+--------+------------------+----------------------+------------------+----------+--------------------+--------------------+\n",
      "|      Formatted Date|      Summary|Precip Type|  Temperature (C)|Apparent Temperature (C)|Humidity| Wind Speed (km/h)|Wind Bearing (degrees)|   Visibility (km)|Loud Cover|Pressure (millibars)|       Daily Summary|\n",
      "+--------------------+-------------+-----------+-----------------+------------------------+--------+------------------+----------------------+------------------+----------+--------------------+--------------------+\n",
      "|2006-04-01 00:00:...|Partly Cloudy|       rain|9.472222222222221|      7.3888888888888875|    0.89|           14.1197|                 251.0|15.826300000000002|       0.0|             1015.13|Partly cloudy thr...|\n",
      "|2006-04-01 01:00:...|Partly Cloudy|       rain|9.355555555555558|       7.227777777777776|    0.86|           14.2646|                 259.0|15.826300000000002|       0.0|             1015.63|Partly cloudy thr...|\n",
      "|2006-04-01 02:00:...|Mostly Cloudy|       rain|9.377777777777778|       9.377777777777778|    0.89|3.9284000000000003|                 204.0|           14.9569|       0.0|             1015.94|Partly cloudy thr...|\n",
      "|2006-04-01 03:00:...|Partly Cloudy|       rain| 8.28888888888889|       5.944444444444446|    0.83|           14.1036|                 269.0|15.826300000000002|       0.0|             1016.41|Partly cloudy thr...|\n",
      "|2006-04-01 04:00:...|Mostly Cloudy|       rain|8.755555555555553|       6.977777777777779|    0.83|           11.0446|                 259.0|15.826300000000002|       0.0|             1016.51|Partly cloudy thr...|\n",
      "|2006-04-01 05:00:...|Partly Cloudy|       rain|9.222222222222221|        7.11111111111111|    0.85|           13.9587|                 258.0|           14.9569|       0.0|             1016.66|Partly cloudy thr...|\n",
      "|2006-04-01 06:00:...|Partly Cloudy|       rain|7.733333333333334|       5.522222222222221|    0.95|           12.3648|                 259.0| 9.982000000000001|       0.0|             1016.72|Partly cloudy thr...|\n",
      "+--------------------+-------------+-----------+-----------------+------------------------+--------+------------------+----------------------+------------------+----------+--------------------+--------------------+\n",
      "only showing top 7 rows\n",
      "\n"
     ]
    }
   ],
   "source": [
    "# Exploration of WEATHER DATA\n",
    "df.show(7)"
   ]
  },
  {
   "cell_type": "code",
   "execution_count": 7,
   "metadata": {},
   "outputs": [
    {
     "name": "stdout",
     "output_type": "stream",
     "text": [
      "-RECORD 0----------------------------------------\n",
      " Formatted Date           | 2006-04-01 00:00:... \n",
      " Summary                  | Partly Cloudy        \n",
      " Precip Type              | rain                 \n",
      " Temperature (C)          | 9.472222222222221    \n",
      " Apparent Temperature (C) | 7.3888888888888875   \n",
      " Humidity                 | 0.89                 \n",
      " Wind Speed (km/h)        | 14.1197              \n",
      " Wind Bearing (degrees)   | 251.0                \n",
      " Visibility (km)          | 15.826300000000002   \n",
      " Loud Cover               | 0.0                  \n",
      " Pressure (millibars)     | 1015.13              \n",
      " Daily Summary            | Partly cloudy thr... \n",
      "-RECORD 1----------------------------------------\n",
      " Formatted Date           | 2006-04-01 01:00:... \n",
      " Summary                  | Partly Cloudy        \n",
      " Precip Type              | rain                 \n",
      " Temperature (C)          | 9.355555555555558    \n",
      " Apparent Temperature (C) | 7.227777777777776    \n",
      " Humidity                 | 0.86                 \n",
      " Wind Speed (km/h)        | 14.2646              \n",
      " Wind Bearing (degrees)   | 259.0                \n",
      " Visibility (km)          | 15.826300000000002   \n",
      " Loud Cover               | 0.0                  \n",
      " Pressure (millibars)     | 1015.63              \n",
      " Daily Summary            | Partly cloudy thr... \n",
      "only showing top 2 rows\n",
      "\n"
     ]
    }
   ],
   "source": [
    "df.show(2, vertical=True)"
   ]
  },
  {
   "cell_type": "markdown",
   "metadata": {},
   "source": [
    "Count of State of Atmosphere"
   ]
  },
  {
   "cell_type": "code",
   "execution_count": 11,
   "metadata": {},
   "outputs": [
    {
     "name": "stdout",
     "output_type": "stream",
     "text": [
      "+--------------------+-----+\n",
      "|             Summary|count|\n",
      "+--------------------+-----+\n",
      "|              Breezy|   54|\n",
      "|Humid and Mostly ...|   40|\n",
      "|  Windy and Overcast|   45|\n",
      "|               Foggy| 7148|\n",
      "|Humid and Partly ...|   17|\n",
      "|     Windy and Foggy|    4|\n",
      "|Breezy and Partly...|  386|\n",
      "|                 Dry|   34|\n",
      "|       Partly Cloudy|31733|\n",
      "|               Clear|10890|\n",
      "|       Mostly Cloudy|28094|\n",
      "|    Breezy and Foggy|   35|\n",
      "| Breezy and Overcast|  528|\n",
      "|Dangerously Windy...|    1|\n",
      "|Breezy and Mostly...|  516|\n",
      "|Windy and Partly ...|   67|\n",
      "|               Windy|    8|\n",
      "|Dry and Partly Cl...|   86|\n",
      "|Windy and Mostly ...|   35|\n",
      "|            Overcast|16597|\n",
      "+--------------------+-----+\n",
      "only showing top 20 rows\n",
      "\n"
     ]
    }
   ],
   "source": [
    "df.groupBy(\"Summary\").count().show()"
   ]
  },
  {
   "cell_type": "code",
   "execution_count": 21,
   "metadata": {},
   "outputs": [
    {
     "name": "stdout",
     "output_type": "stream",
     "text": [
      "+-------------+-----+\n",
      "|      Summary| Temp|\n",
      "+-------------+-----+\n",
      "|Partly Cloudy|9.472|\n",
      "|Partly Cloudy|9.356|\n",
      "|Mostly Cloudy|9.378|\n",
      "|Partly Cloudy|8.289|\n",
      "|Mostly Cloudy|8.756|\n",
      "+-------------+-----+\n",
      "only showing top 5 rows\n",
      "\n"
     ]
    }
   ],
   "source": [
    "import pyspark.sql.functions as F\n",
    "df.select(\"Summary\", F.round(\"Temperature (C)\", 3).alias(\"Temp\")).show(5)"
   ]
  }
 ],
 "metadata": {
  "interpreter": {
   "hash": "92db4a3e6462b9fadf0a0f8c62912623cebd408e910f4b1d99e22ed15ce59dca"
  },
  "kernelspec": {
   "display_name": "Python 3.9.6 ('env': venv)",
   "language": "python",
   "name": "python3"
  },
  "language_info": {
   "codemirror_mode": {
    "name": "ipython",
    "version": 3
   },
   "file_extension": ".py",
   "mimetype": "text/x-python",
   "name": "python",
   "nbconvert_exporter": "python",
   "pygments_lexer": "ipython3",
   "version": "3.9.6"
  },
  "orig_nbformat": 4
 },
 "nbformat": 4,
 "nbformat_minor": 2
}
